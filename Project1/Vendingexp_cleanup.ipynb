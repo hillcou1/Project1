{
 "cells": [
  {
   "cell_type": "code",
   "execution_count": 1,
   "metadata": {},
   "outputs": [
    {
     "data": {
      "text/html": [
       "<div>\n",
       "<style scoped>\n",
       "    .dataframe tbody tr th:only-of-type {\n",
       "        vertical-align: middle;\n",
       "    }\n",
       "\n",
       "    .dataframe tbody tr th {\n",
       "        vertical-align: top;\n",
       "    }\n",
       "\n",
       "    .dataframe thead th {\n",
       "        text-align: right;\n",
       "    }\n",
       "</style>\n",
       "<table border=\"1\" class=\"dataframe\">\n",
       "  <thead>\n",
       "    <tr style=\"text-align: right;\">\n",
       "      <th></th>\n",
       "      <th>Region</th>\n",
       "      <th>accountid</th>\n",
       "      <th>locationid</th>\n",
       "      <th>Industry</th>\n",
       "      <th>BusinessDate</th>\n",
       "      <th>machineid</th>\n",
       "      <th>ProductID</th>\n",
       "      <th>ChoicePlusInd</th>\n",
       "      <th>SKU</th>\n",
       "      <th>MerchandiseCat</th>\n",
       "      <th>UnitPrice</th>\n",
       "      <th>Sales</th>\n",
       "    </tr>\n",
       "  </thead>\n",
       "  <tbody>\n",
       "    <tr>\n",
       "      <th>0</th>\n",
       "      <td>Central</td>\n",
       "      <td>2152</td>\n",
       "      <td>12622</td>\n",
       "      <td>Healthcare/Hospitals</td>\n",
       "      <td>3/1/2019 0:00</td>\n",
       "      <td>2394005</td>\n",
       "      <td>105</td>\n",
       "      <td>0</td>\n",
       "      <td>5193</td>\n",
       "      <td>Soda</td>\n",
       "      <td>1.75</td>\n",
       "      <td>13</td>\n",
       "    </tr>\n",
       "    <tr>\n",
       "      <th>1</th>\n",
       "      <td>Central</td>\n",
       "      <td>2152</td>\n",
       "      <td>12622</td>\n",
       "      <td>Healthcare/Hospitals</td>\n",
       "      <td>3/1/2019 0:00</td>\n",
       "      <td>2394005</td>\n",
       "      <td>108</td>\n",
       "      <td>0</td>\n",
       "      <td>5197</td>\n",
       "      <td>Soda</td>\n",
       "      <td>1.75</td>\n",
       "      <td>20</td>\n",
       "    </tr>\n",
       "    <tr>\n",
       "      <th>2</th>\n",
       "      <td>Central</td>\n",
       "      <td>2152</td>\n",
       "      <td>12622</td>\n",
       "      <td>Healthcare/Hospitals</td>\n",
       "      <td>3/1/2019 0:00</td>\n",
       "      <td>2394005</td>\n",
       "      <td>110</td>\n",
       "      <td>1</td>\n",
       "      <td>5204</td>\n",
       "      <td>Diet Soda</td>\n",
       "      <td>1.75</td>\n",
       "      <td>4</td>\n",
       "    </tr>\n",
       "    <tr>\n",
       "      <th>3</th>\n",
       "      <td>Central</td>\n",
       "      <td>2152</td>\n",
       "      <td>12622</td>\n",
       "      <td>Healthcare/Hospitals</td>\n",
       "      <td>3/1/2019 0:00</td>\n",
       "      <td>2394005</td>\n",
       "      <td>111</td>\n",
       "      <td>1</td>\n",
       "      <td>5206</td>\n",
       "      <td>Diet Soda</td>\n",
       "      <td>1.75</td>\n",
       "      <td>11</td>\n",
       "    </tr>\n",
       "    <tr>\n",
       "      <th>4</th>\n",
       "      <td>Central</td>\n",
       "      <td>2152</td>\n",
       "      <td>12622</td>\n",
       "      <td>Healthcare/Hospitals</td>\n",
       "      <td>3/1/2019 0:00</td>\n",
       "      <td>2394005</td>\n",
       "      <td>113</td>\n",
       "      <td>1</td>\n",
       "      <td>5207</td>\n",
       "      <td>Diet Soda</td>\n",
       "      <td>1.75</td>\n",
       "      <td>4</td>\n",
       "    </tr>\n",
       "  </tbody>\n",
       "</table>\n",
       "</div>"
      ],
      "text/plain": [
       "    Region  accountid  locationid              Industry   BusinessDate  \\\n",
       "0  Central       2152       12622  Healthcare/Hospitals  3/1/2019 0:00   \n",
       "1  Central       2152       12622  Healthcare/Hospitals  3/1/2019 0:00   \n",
       "2  Central       2152       12622  Healthcare/Hospitals  3/1/2019 0:00   \n",
       "3  Central       2152       12622  Healthcare/Hospitals  3/1/2019 0:00   \n",
       "4  Central       2152       12622  Healthcare/Hospitals  3/1/2019 0:00   \n",
       "\n",
       "   machineid  ProductID  ChoicePlusInd   SKU MerchandiseCat  UnitPrice  Sales  \n",
       "0    2394005        105              0  5193           Soda       1.75     13  \n",
       "1    2394005        108              0  5197           Soda       1.75     20  \n",
       "2    2394005        110              1  5204      Diet Soda       1.75      4  \n",
       "3    2394005        111              1  5206      Diet Soda       1.75     11  \n",
       "4    2394005        113              1  5207      Diet Soda       1.75      4  "
      ]
     },
     "execution_count": 1,
     "metadata": {},
     "output_type": "execute_result"
    }
   ],
   "source": [
    "# Dependencies and Setup\n",
    "import matplotlib.pyplot as plt\n",
    "from matplotlib import cm\n",
    "import pandas as pd\n",
    "import numpy as np\n",
    "import random\n",
    "\n",
    "# File to Load (Remember to change these)\n",
    "project_data_to_load = \"Resources/Project_Data.csv\"\n",
    "project_data2_to_load = \"./Resources/Project_Data_2.csv\"\n",
    "\n",
    "# Read the City and Ride Data\n",
    "\n",
    "project_data_1 = pd.read_csv(project_data_to_load)\n",
    "project_data_2 = pd.read_csv(project_data2_to_load)\n",
    "\n",
    "# project_data_1.head()\n",
    "project_data_2.head()\n",
    "\n",
    "# Combine the data into a single dataset\n",
    "Combined_Data = pd.concat([project_data_1, project_data_2], axis=0)\n",
    "\n",
    "\n",
    "Combined_Data.head()"
   ]
  },
  {
   "cell_type": "code",
   "execution_count": null,
   "metadata": {},
   "outputs": [],
   "source": []
  },
  {
   "cell_type": "code",
   "execution_count": 4,
   "metadata": {},
   "outputs": [
    {
     "data": {
      "text/plain": [
       "(1491198, 12)"
      ]
     },
     "execution_count": 4,
     "metadata": {},
     "output_type": "execute_result"
    }
   ],
   "source": [
    "Combined_Data.shape"
   ]
  },
  {
   "cell_type": "code",
   "execution_count": 5,
   "metadata": {},
   "outputs": [
    {
     "data": {
      "text/plain": [
       "Region            1491198\n",
       "accountid         1491198\n",
       "locationid        1491198\n",
       "Industry          1491198\n",
       "BusinessDate      1491198\n",
       "machineid         1491198\n",
       "ProductID         1491198\n",
       "ChoicePlusInd     1491198\n",
       "SKU               1491198\n",
       "MerchandiseCat    1490972\n",
       "UnitPrice         1491198\n",
       "Sales             1491198\n",
       "dtype: int64"
      ]
     },
     "execution_count": 5,
     "metadata": {},
     "output_type": "execute_result"
    }
   ],
   "source": [
    "Combined_Data.count()"
   ]
  },
  {
   "cell_type": "code",
   "execution_count": 6,
   "metadata": {},
   "outputs": [
    {
     "data": {
      "text/plain": [
       "Region             object\n",
       "accountid           int64\n",
       "locationid          int64\n",
       "Industry           object\n",
       "BusinessDate       object\n",
       "machineid           int64\n",
       "ProductID           int64\n",
       "ChoicePlusInd       int64\n",
       "SKU                 int64\n",
       "MerchandiseCat     object\n",
       "UnitPrice         float64\n",
       "Sales               int64\n",
       "dtype: object"
      ]
     },
     "execution_count": 6,
     "metadata": {},
     "output_type": "execute_result"
    }
   ],
   "source": [
    "Combined_Data.dtypes"
   ]
  },
  {
   "cell_type": "code",
   "execution_count": 7,
   "metadata": {},
   "outputs": [
    {
     "data": {
      "text/html": [
       "<div>\n",
       "<style scoped>\n",
       "    .dataframe tbody tr th:only-of-type {\n",
       "        vertical-align: middle;\n",
       "    }\n",
       "\n",
       "    .dataframe tbody tr th {\n",
       "        vertical-align: top;\n",
       "    }\n",
       "\n",
       "    .dataframe thead th {\n",
       "        text-align: right;\n",
       "    }\n",
       "</style>\n",
       "<table border=\"1\" class=\"dataframe\">\n",
       "  <thead>\n",
       "    <tr style=\"text-align: right;\">\n",
       "      <th></th>\n",
       "      <th>Region</th>\n",
       "      <th>accountid</th>\n",
       "      <th>locationid</th>\n",
       "      <th>Industry</th>\n",
       "      <th>BusinessDate</th>\n",
       "      <th>machineid</th>\n",
       "      <th>ProductID</th>\n",
       "      <th>ChoicePlusInd</th>\n",
       "      <th>SKU</th>\n",
       "      <th>MerchandiseCat</th>\n",
       "      <th>UnitPrice</th>\n",
       "      <th>Sales</th>\n",
       "    </tr>\n",
       "  </thead>\n",
       "  <tbody>\n",
       "    <tr>\n",
       "      <th>0</th>\n",
       "      <td>Central</td>\n",
       "      <td>2152</td>\n",
       "      <td>12622</td>\n",
       "      <td>Healthcare/Hospitals</td>\n",
       "      <td>3/1/2019 0:00</td>\n",
       "      <td>2394005</td>\n",
       "      <td>105</td>\n",
       "      <td>0</td>\n",
       "      <td>5193</td>\n",
       "      <td>Soda</td>\n",
       "      <td>1.75</td>\n",
       "      <td>13</td>\n",
       "    </tr>\n",
       "    <tr>\n",
       "      <th>1</th>\n",
       "      <td>Central</td>\n",
       "      <td>2152</td>\n",
       "      <td>12622</td>\n",
       "      <td>Healthcare/Hospitals</td>\n",
       "      <td>3/1/2019 0:00</td>\n",
       "      <td>2394005</td>\n",
       "      <td>108</td>\n",
       "      <td>0</td>\n",
       "      <td>5197</td>\n",
       "      <td>Soda</td>\n",
       "      <td>1.75</td>\n",
       "      <td>20</td>\n",
       "    </tr>\n",
       "    <tr>\n",
       "      <th>2</th>\n",
       "      <td>Central</td>\n",
       "      <td>2152</td>\n",
       "      <td>12622</td>\n",
       "      <td>Healthcare/Hospitals</td>\n",
       "      <td>3/1/2019 0:00</td>\n",
       "      <td>2394005</td>\n",
       "      <td>110</td>\n",
       "      <td>1</td>\n",
       "      <td>5204</td>\n",
       "      <td>Diet Soda</td>\n",
       "      <td>1.75</td>\n",
       "      <td>4</td>\n",
       "    </tr>\n",
       "    <tr>\n",
       "      <th>3</th>\n",
       "      <td>Central</td>\n",
       "      <td>2152</td>\n",
       "      <td>12622</td>\n",
       "      <td>Healthcare/Hospitals</td>\n",
       "      <td>3/1/2019 0:00</td>\n",
       "      <td>2394005</td>\n",
       "      <td>111</td>\n",
       "      <td>1</td>\n",
       "      <td>5206</td>\n",
       "      <td>Diet Soda</td>\n",
       "      <td>1.75</td>\n",
       "      <td>11</td>\n",
       "    </tr>\n",
       "    <tr>\n",
       "      <th>4</th>\n",
       "      <td>Central</td>\n",
       "      <td>2152</td>\n",
       "      <td>12622</td>\n",
       "      <td>Healthcare/Hospitals</td>\n",
       "      <td>3/1/2019 0:00</td>\n",
       "      <td>2394005</td>\n",
       "      <td>113</td>\n",
       "      <td>1</td>\n",
       "      <td>5207</td>\n",
       "      <td>Diet Soda</td>\n",
       "      <td>1.75</td>\n",
       "      <td>4</td>\n",
       "    </tr>\n",
       "  </tbody>\n",
       "</table>\n",
       "</div>"
      ],
      "text/plain": [
       "    Region  accountid  locationid              Industry   BusinessDate  \\\n",
       "0  Central       2152       12622  Healthcare/Hospitals  3/1/2019 0:00   \n",
       "1  Central       2152       12622  Healthcare/Hospitals  3/1/2019 0:00   \n",
       "2  Central       2152       12622  Healthcare/Hospitals  3/1/2019 0:00   \n",
       "3  Central       2152       12622  Healthcare/Hospitals  3/1/2019 0:00   \n",
       "4  Central       2152       12622  Healthcare/Hospitals  3/1/2019 0:00   \n",
       "\n",
       "   machineid  ProductID ChoicePlusInd   SKU MerchandiseCat  UnitPrice  Sales  \n",
       "0    2394005        105             0  5193           Soda       1.75     13  \n",
       "1    2394005        108             0  5197           Soda       1.75     20  \n",
       "2    2394005        110             1  5204      Diet Soda       1.75      4  \n",
       "3    2394005        111             1  5206      Diet Soda       1.75     11  \n",
       "4    2394005        113             1  5207      Diet Soda       1.75      4  "
      ]
     },
     "execution_count": 7,
     "metadata": {},
     "output_type": "execute_result"
    }
   ],
   "source": [
    "# check data types of dataframe\n",
    "\n",
    "# Combined_Data =  Combined_Data['ChoicePlusInd'].apply(str)\n",
    "\n",
    "Combined_Data['ChoicePlusInd'] = Combined_Data['ChoicePlusInd'].apply(str)\n",
    "# Combined_Data[\"Sales\"] = Combined_Data[\"Sales\"].map(\"${:.2f}\".format) \n",
    "\n",
    "Combined_Data.head()"
   ]
  },
  {
   "cell_type": "code",
   "execution_count": 8,
   "metadata": {},
   "outputs": [
    {
     "data": {
      "text/plain": [
       "Index(['Region', 'accountid', 'locationid', 'Industry', 'BusinessDate',\n",
       "       'machineid', 'ProductID', 'ChoicePlusInd', 'SKU', 'MerchandiseCat',\n",
       "       'UnitPrice', 'Sales'],\n",
       "      dtype='object')"
      ]
     },
     "execution_count": 8,
     "metadata": {},
     "output_type": "execute_result"
    }
   ],
   "source": [
    "Combined_Data.columns"
   ]
  },
  {
   "cell_type": "code",
   "execution_count": 9,
   "metadata": {},
   "outputs": [
    {
     "data": {
      "text/plain": [
       "5783311"
      ]
     },
     "execution_count": 9,
     "metadata": {},
     "output_type": "execute_result"
    }
   ],
   "source": [
    "# Total Sales\n",
    "\n",
    "Total_Sales = Combined_Data[\"Sales\"].sum()\n",
    "# Total_Sales[\"Sales\"] = Total_Sales[\"Sales\"].map(\"${:.2f}\".format) \n",
    "Total_Sales"
   ]
  },
  {
   "cell_type": "code",
   "execution_count": 10,
   "metadata": {},
   "outputs": [
    {
     "data": {
      "text/plain": [
       "2788"
      ]
     },
     "execution_count": 10,
     "metadata": {},
     "output_type": "execute_result"
    }
   ],
   "source": [
    "UniqueProducts = len(Combined_Data['ProductID'].unique())\n",
    "\n",
    "UniqueProducts"
   ]
  },
  {
   "cell_type": "code",
   "execution_count": 11,
   "metadata": {},
   "outputs": [
    {
     "data": {
      "text/plain": [
       "27"
      ]
     },
     "execution_count": 11,
     "metadata": {},
     "output_type": "execute_result"
    }
   ],
   "source": [
    "UniqueMerchandiseCat = len(Combined_Data['MerchandiseCat'].unique())\n",
    "\n",
    "UniqueMerchandiseCat"
   ]
  },
  {
   "cell_type": "code",
   "execution_count": 12,
   "metadata": {},
   "outputs": [
    {
     "data": {
      "text/plain": [
       "array(['Healthcare/Hospitals',\n",
       "       'Office - Clerical (Data Processing, Call Ctr)', 'Motel/Hotel',\n",
       "       'Distribution Centers ( UPS, FED Ex, Grocery, Mail, Pick and Pack)',\n",
       "       'Retail Store - (Blue Collar - Lowes, Home Depot, Target,Walmart)',\n",
       "       'Not Selected', 'Food Processing, Production',\n",
       "       'Higher Education - Colleges, Universities (Greater Than 50% Commuter)',\n",
       "       'Light Manufacturing / Assembly  ( High Tech Fab, Small Component Assembly)',\n",
       "       \"Retail Store - (White Collar - Best Buy,Macy's, Belk, Kohl's, Sears)\",\n",
       "       'Office Professional - Law, Corp, High Tech',\n",
       "       'Higher Education - Colleges, Universities (Less Than 50% Commuter)',\n",
       "       'Nursing Homes, Retirement Centers, Rehabilitation',\n",
       "       'Amusement, Family Entertainment, Sports Centers (YMCA)',\n",
       "       'Transportation Trucking (Roadway, Yellow, etc.)',\n",
       "       'Healthcare - Outpatient / MOB', 'School 9-12',\n",
       "       'Public Transportation Locations (Air, Bus, Rail)',\n",
       "       'Heavy Manufacturing - Steel, Textiles, Plastics, Forest Products, etc.',\n",
       "       'School K-8', 'Corrections', 'Military', 'School K-12',\n",
       "       'Corrections - Inmate'], dtype=object)"
      ]
     },
     "execution_count": 12,
     "metadata": {},
     "output_type": "execute_result"
    }
   ],
   "source": [
    "UniqueIndustryList = Combined_Data['Industry'].unique()\n",
    "\n",
    "UniqueIndustryList"
   ]
  },
  {
   "cell_type": "code",
   "execution_count": 13,
   "metadata": {},
   "outputs": [
    {
     "data": {
      "text/plain": [
       "array(['Soda', 'Diet Soda', 'Water', 'Juice', 'Hydration / Sports',\n",
       "       'Vitamin Enhanced', 'Energy', 'Nutrition Bar', 'Candy',\n",
       "       'Salty Snacks', 'Pastry', 'Cookies', 'Meat Sticks', 'Crackers',\n",
       "       'Tea', 'Rtd Coffee', 'Nuts/Trailmix', 'Sundry', 'Gum / Mints',\n",
       "       'Flavored Noncarb', 'Soda Can', 'Diet Soda Can', 'Food', 'Milk',\n",
       "       'New Age Beverage', nan, 'Ice Cream'], dtype=object)"
      ]
     },
     "execution_count": 13,
     "metadata": {},
     "output_type": "execute_result"
    }
   ],
   "source": [
    "UniqueMerchandiseCatList = Combined_Data['MerchandiseCat'].unique()\n",
    "\n",
    "UniqueMerchandiseCatList"
   ]
  },
  {
   "cell_type": "code",
   "execution_count": 14,
   "metadata": {},
   "outputs": [
    {
     "data": {
      "text/plain": [
       "43261"
      ]
     },
     "execution_count": 14,
     "metadata": {},
     "output_type": "execute_result"
    }
   ],
   "source": [
    "UniqueMachines = len(Combined_Data['machineid'].unique())\n",
    "\n",
    "UniqueMachines"
   ]
  },
  {
   "cell_type": "code",
   "execution_count": 15,
   "metadata": {},
   "outputs": [
    {
     "data": {
      "text/plain": [
       "24"
      ]
     },
     "execution_count": 15,
     "metadata": {},
     "output_type": "execute_result"
    }
   ],
   "source": [
    "# Unique industries\n",
    "\n",
    "# UniqueIndustries = pd.DataFrame(Combined_Data.groupby(['Industry'])['Industry'].nunique())\n",
    "\n",
    "UniqueIndustries = len(Combined_Data['Industry'].unique())\n",
    "\n",
    "UniqueIndustries"
   ]
  },
  {
   "cell_type": "code",
   "execution_count": 16,
   "metadata": {},
   "outputs": [
    {
     "data": {
      "text/html": [
       "<div>\n",
       "<style scoped>\n",
       "    .dataframe tbody tr th:only-of-type {\n",
       "        vertical-align: middle;\n",
       "    }\n",
       "\n",
       "    .dataframe tbody tr th {\n",
       "        vertical-align: top;\n",
       "    }\n",
       "\n",
       "    .dataframe thead th {\n",
       "        text-align: right;\n",
       "    }\n",
       "</style>\n",
       "<table border=\"1\" class=\"dataframe\">\n",
       "  <thead>\n",
       "    <tr style=\"text-align: right;\">\n",
       "      <th></th>\n",
       "      <th>Regions</th>\n",
       "      <th>Accounts</th>\n",
       "      <th>Locations</th>\n",
       "      <th>Industries</th>\n",
       "      <th>Machines</th>\n",
       "      <th>Products</th>\n",
       "      <th>Merchandise Categories</th>\n",
       "      <th>Total Sales</th>\n",
       "    </tr>\n",
       "  </thead>\n",
       "  <tbody>\n",
       "    <tr>\n",
       "      <th>0</th>\n",
       "      <td>6</td>\n",
       "      <td>10587</td>\n",
       "      <td>24492</td>\n",
       "      <td>24</td>\n",
       "      <td>43261</td>\n",
       "      <td>2788</td>\n",
       "      <td>27</td>\n",
       "      <td>$5,783,311.00</td>\n",
       "    </tr>\n",
       "  </tbody>\n",
       "</table>\n",
       "</div>"
      ],
      "text/plain": [
       "   Regions  Accounts  Locations  Industries  Machines  Products  \\\n",
       "0        6     10587      24492          24     43261      2788   \n",
       "\n",
       "   Merchandise Categories    Total Sales  \n",
       "0                      27  $5,783,311.00  "
      ]
     },
     "execution_count": 16,
     "metadata": {},
     "output_type": "execute_result"
    }
   ],
   "source": [
    "UniqueRegions = len(Combined_Data['Region'].unique())\n",
    "UniqueAccounts = len(Combined_Data['accountid'].unique())\n",
    "UniqueLocations = len(Combined_Data['locationid'].unique())\n",
    "\n",
    "\n",
    "# # Place all of the data found into a summary DataFrame\n",
    "summary_table = pd.DataFrame({\"Regions\": UniqueRegions,\n",
    "                              \"Accounts\": [UniqueAccounts],\n",
    "                              \"Locations\": [UniqueLocations],\n",
    "                              \"Industries\": [UniqueIndustries],\n",
    "                              \"Machines\": UniqueMachines,\n",
    "                              \"Products\": UniqueProducts,\n",
    "                              \"Merchandise Categories\": UniqueMerchandiseCat,\n",
    "                              \"Total Sales\": Total_Sales})\n",
    "\n",
    "summary_table[\"Total Sales\"] = summary_table[\"Total Sales\"].map(\"${:,.2f}\".format) \n",
    "\n",
    "summary_table"
   ]
  },
  {
   "cell_type": "code",
   "execution_count": null,
   "metadata": {},
   "outputs": [],
   "source": []
  }
 ],
 "metadata": {
  "kernelspec": {
   "display_name": "Python 3",
   "language": "python",
   "name": "python3"
  },
  "language_info": {
   "codemirror_mode": {
    "name": "ipython",
    "version": 3
   },
   "file_extension": ".py",
   "mimetype": "text/x-python",
   "name": "python",
   "nbconvert_exporter": "python",
   "pygments_lexer": "ipython3",
   "version": "3.7.1"
  }
 },
 "nbformat": 4,
 "nbformat_minor": 2
}
